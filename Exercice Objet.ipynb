{
 "cells": [
  {
   "cell_type": "code",
   "execution_count": 20,
   "metadata": {},
   "outputs": [
    {
     "name": "stdout",
     "output_type": "stream",
     "text": [
      "Nom:pomme\n",
      "Prenom:pdf\n",
      "Date de naissance :1 /07 / 1997\n",
      "Nom:Ilyass\n",
      "Prenom:Math\n",
      "Date de naissance :1 /07 / 1985\n",
      "Salaire :7865.548\n"
     ]
    }
   ],
   "source": [
    "#Exercices Compte bancaire \n",
    "\n",
    "class CompteBancaire():\n",
    "    def __init__(self, nom=\"Dupont\", solde=1000):\n",
    "        self.nom = nom \n",
    "        self.solde = solde\n",
    "    \n",
    "    def depot(self,somme):\n",
    "        self.solde += somme\n",
    "        \n",
    "    def retrait(self,somme):\n",
    "        self.solde -= somme\n",
    "        \n",
    "    def affiche(self):\n",
    "        return \"Le solde du compte bancaire de \" + str(self.nom) + \" est de \" + str(self.solde)\n",
    "        \n",
    "\n",
    "compte1 = CompteBancaire(\"Duchmol\", 800)\n",
    "compte1.depot(350)\n",
    "compte1.retrait(200)\n",
    "compte1.affiche()\n",
    "\n",
    "\n",
    "compte2 = CompteBancaire(\"Duponst\", 800)\n",
    "compte2.depot(25)\n",
    "compte2.affiche()\n",
    "\n",
    "#Exercice la surcharge d'opérateur\n",
    "\n",
    "class Point():\n",
    "    def __init__(self,x,y,z= \"None\"):\n",
    "        self.x = x\n",
    "        self.y = y\n",
    "        self.z = z\n",
    "        \n",
    "    def ToString(self):\n",
    "        if(self.z != \"None\"):\n",
    "            return \"(\"+str(self.x)+\" ,\"+str(self.y)+\", \"+str(self.z)+\")\"\n",
    "        return \"(\"+str(self.x)+\" ,\"+str(self.y)+\")\" \n",
    "            \n",
    "unPoint = Point(2,3,)\n",
    "unPoint.ToString()\n",
    "\n",
    "          \n",
    "\n",
    "#L'héritage simple \n",
    "\n",
    "class DateNaissance:\n",
    "    def __init__(self,jour,mois,annee):\n",
    "        self.jour = jour\n",
    "        self.mois = mois\n",
    "        self.annee = annee\n",
    "    def ToString(self):\n",
    "        return str(self.jour)+\" /0\"+str(self.mois)+\" / \"+str(self.annee)\n",
    "uneDate = DateNaissance(22,8,1997)\n",
    "\n",
    "uneDate.ToString()\n",
    "\n",
    "\n",
    "class Personne:\n",
    "    def __init__(self,nom,prenom,dateNaiss):\n",
    "        self.nom = nom\n",
    "        self.prenom = prenom\n",
    "        self.dateNaiss = dateNaiss\n",
    "        \n",
    "    def afficher(self):\n",
    "        print(\"Nom:\"+ str(self.nom))\n",
    "        print(\"Prenom:\"+ str(self.prenom))\n",
    "        print(\"Date de naissance :\"+ self.dateNaiss.ToString())\n",
    "    \n",
    "p = Personne(\"pomme\",\"pdf\",DateNaissance(1,7,1997))\n",
    "p.afficher()\n",
    "\n",
    "class Employe(Personne):\n",
    "    def __init__(self,nom,prenom,dateNaiss,salaire):\n",
    "        Personne.__init__(self,nom,prenom,dateNaiss)\n",
    "        self.salaire = salaire\n",
    "    def afficher(self):\n",
    "        Personne.afficher(self)\n",
    "        print(\"Salaire :\"+ str(self.salaire))\n",
    "        \n",
    "E = Employe(\"Ilyass\",\"Math\",DateNaissance(1,7,1985),7865.548)\n",
    "E.afficher()\n"
   ]
  },
  {
   "cell_type": "code",
   "execution_count": 22,
   "metadata": {},
   "outputs": [],
   "source": [
    "class Courrier:\n",
    "     \n",
    "    def __init__(self,AdresseDestination,AdressExpedition,poids,mode):\n",
    "        self.AdresseDestination=AdresseDestination\n",
    "        self.AdressExpedition=AdressExpedition\n",
    "        self.poids=poids\n",
    "        self.mode=mode\n",
    "         \n",
    "    def ToString(self):\n",
    "         \n",
    "        print(\" Adresse de destination : \"+self.AdresseDestination+\" \\n Adresse d'expédition : \"+self.AdressExpedition+\"\\n Poids : %.2f grammes\\n Mode : %s \"%(self.poids,self.mode))"
   ]
  },
  {
   "cell_type": "code",
   "execution_count": 37,
   "metadata": {},
   "outputs": [
    {
     "ename": "AttributeError",
     "evalue": "type object 'Boxletter' has no attribute 'ToString'",
     "output_type": "error",
     "traceback": [
      "\u001b[1;31m---------------------------------------------------------------------------\u001b[0m",
      "\u001b[1;31mAttributeError\u001b[0m                            Traceback (most recent call last)",
      "\u001b[1;32m<ipython-input-37-2516cadfc9a5>\u001b[0m in \u001b[0;36m<module>\u001b[1;34m\u001b[0m\n\u001b[0;32m     11\u001b[0m \u001b[1;33m\u001b[0m\u001b[0m\n\u001b[0;32m     12\u001b[0m \u001b[0muneLettre\u001b[0m \u001b[1;33m=\u001b[0m \u001b[0mLettre\u001b[0m\u001b[1;33m(\u001b[0m\u001b[1;34m\"Lille\"\u001b[0m\u001b[1;33m,\u001b[0m\u001b[1;34m\"Paris\"\u001b[0m\u001b[1;33m,\u001b[0m\u001b[1;36m80\u001b[0m\u001b[1;33m,\u001b[0m\u001b[1;34m\"normal\"\u001b[0m\u001b[1;33m,\u001b[0m\u001b[1;34m\"A4\"\u001b[0m\u001b[1;33m)\u001b[0m\u001b[1;33m\u001b[0m\u001b[1;33m\u001b[0m\u001b[0m\n\u001b[1;32m---> 13\u001b[1;33m \u001b[0muneLettre\u001b[0m\u001b[1;33m.\u001b[0m\u001b[0mToString\u001b[0m\u001b[1;33m(\u001b[0m\u001b[1;33m)\u001b[0m\u001b[1;33m\u001b[0m\u001b[1;33m\u001b[0m\u001b[0m\n\u001b[0m",
      "\u001b[1;32m<ipython-input-37-2516cadfc9a5>\u001b[0m in \u001b[0;36mToString\u001b[1;34m(self)\u001b[0m\n\u001b[0;32m      6\u001b[0m \u001b[1;33m\u001b[0m\u001b[0m\n\u001b[0;32m      7\u001b[0m     \u001b[1;32mdef\u001b[0m \u001b[0mToString\u001b[0m\u001b[1;33m(\u001b[0m\u001b[0mself\u001b[0m\u001b[1;33m)\u001b[0m\u001b[1;33m:\u001b[0m\u001b[1;33m\u001b[0m\u001b[1;33m\u001b[0m\u001b[0m\n\u001b[1;32m----> 8\u001b[1;33m         \u001b[0mBoxletter\u001b[0m\u001b[1;33m.\u001b[0m\u001b[0mToString\u001b[0m\u001b[1;33m(\u001b[0m\u001b[0mself\u001b[0m\u001b[1;33m)\u001b[0m\u001b[1;33m\u001b[0m\u001b[1;33m\u001b[0m\u001b[0m\n\u001b[0m\u001b[0;32m      9\u001b[0m         \u001b[0mprint\u001b[0m\u001b[1;33m(\u001b[0m\u001b[1;34m\"Format: \"\u001b[0m\u001b[1;33m+\u001b[0m \u001b[0mself\u001b[0m\u001b[1;33m.\u001b[0m\u001b[0mformat_lettre\u001b[0m\u001b[1;33m)\u001b[0m\u001b[1;33m\u001b[0m\u001b[1;33m\u001b[0m\u001b[0m\n\u001b[0;32m     10\u001b[0m         \u001b[0mprint\u001b[0m\u001b[1;33m(\u001b[0m\u001b[1;34m\"Prix du timbre: a definir ?\"\u001b[0m\u001b[1;33m)\u001b[0m\u001b[1;33m\u001b[0m\u001b[1;33m\u001b[0m\u001b[0m\n",
      "\u001b[1;31mAttributeError\u001b[0m: type object 'Boxletter' has no attribute 'ToString'"
     ]
    }
   ],
   "source": [
    "class Lettre(Courrier):\n",
    "    \n",
    "    def __init__(self,AdresseDestination,AdressExpedition,poids,mode,format):\n",
    "        \n",
    "        Courrier.__init__(self,AdresseDestination,AdressExpedition,poids,mode)\n",
    "        self.format=format\n",
    "         \n",
    "    def calculTimbre(self):\n",
    "         \n",
    "        if self.format==\"A4\":tarif_base=2.5\n",
    "        if self.format==\"A3\":tarif_base=3.5\n",
    "         \n",
    "        montant=tarif_base*self.poids/1000\n",
    "         \n",
    "        if self.mode==\"express\":\n",
    "            montant*=2\n",
    "         \n",
    "        return montant\n",
    "         \n",
    "    def ToString(self):\n",
    "        print(\"Lettre : \")\n",
    "        Courrier.ToString(self)\n",
    "        print(\" Format : %s\\n Prix du timbre : %.2f\"%(self.format,self.calculTimbre()))"
   ]
  },
  {
   "cell_type": "code",
   "execution_count": 38,
   "metadata": {},
   "outputs": [
    {
     "ename": "NameError",
     "evalue": "name 'Courrier' is not defined",
     "output_type": "error",
     "traceback": [
      "\u001b[1;31m---------------------------------------------------------------------------\u001b[0m",
      "\u001b[1;31mNameError\u001b[0m                                 Traceback (most recent call last)",
      "\u001b[1;32m<ipython-input-38-4287572d1eb3>\u001b[0m in \u001b[0;36m<module>\u001b[1;34m\u001b[0m\n\u001b[1;32m----> 1\u001b[1;33m \u001b[1;32mclass\u001b[0m \u001b[0mColis\u001b[0m\u001b[1;33m(\u001b[0m\u001b[0mCourrier\u001b[0m\u001b[1;33m)\u001b[0m\u001b[1;33m:\u001b[0m\u001b[1;33m\u001b[0m\u001b[1;33m\u001b[0m\u001b[0m\n\u001b[0m\u001b[0;32m      2\u001b[0m     \u001b[1;32mdef\u001b[0m \u001b[0m__init__\u001b[0m\u001b[1;33m(\u001b[0m\u001b[0mself\u001b[0m\u001b[1;33m,\u001b[0m\u001b[0mAdresseDestination\u001b[0m\u001b[1;33m,\u001b[0m\u001b[0mAdressExpedition\u001b[0m\u001b[1;33m,\u001b[0m\u001b[0mpoids\u001b[0m\u001b[1;33m,\u001b[0m\u001b[0mmode\u001b[0m\u001b[1;33m,\u001b[0m\u001b[0mvolume\u001b[0m\u001b[1;33m)\u001b[0m\u001b[1;33m:\u001b[0m\u001b[1;33m\u001b[0m\u001b[1;33m\u001b[0m\u001b[0m\n\u001b[0;32m      3\u001b[0m         \u001b[0mCourrier\u001b[0m\u001b[1;33m.\u001b[0m\u001b[0m__init__\u001b[0m\u001b[1;33m(\u001b[0m\u001b[0mself\u001b[0m\u001b[1;33m,\u001b[0m\u001b[0mAdresseDestination\u001b[0m\u001b[1;33m,\u001b[0m\u001b[0mAdressExpedition\u001b[0m\u001b[1;33m,\u001b[0m\u001b[0mpoids\u001b[0m\u001b[1;33m,\u001b[0m\u001b[0mmode\u001b[0m\u001b[1;33m)\u001b[0m\u001b[1;33m\u001b[0m\u001b[1;33m\u001b[0m\u001b[0m\n\u001b[0;32m      4\u001b[0m         \u001b[0mself\u001b[0m\u001b[1;33m.\u001b[0m\u001b[0mvolume\u001b[0m\u001b[1;33m=\u001b[0m\u001b[0mvolume\u001b[0m\u001b[1;33m\u001b[0m\u001b[1;33m\u001b[0m\u001b[0m\n\u001b[0;32m      5\u001b[0m \u001b[1;33m\u001b[0m\u001b[0m\n",
      "\u001b[1;31mNameError\u001b[0m: name 'Courrier' is not defined"
     ]
    }
   ],
   "source": [
    "class Colis(Courrier):\n",
    "    def __init__(self,AdresseDestination,AdressExpedition,poids,mode,volume):\n",
    "        Courrier.__init__(self,AdresseDestination,AdressExpedition,poids,mode)\n",
    "        self.volume=volume\n",
    "        \n",
    "    def calculTimbre(self):\n",
    "        montant=0.0\n",
    "        montant=0.25*self.volume*self.poids/1000\n",
    "        if self.mode==\"express\":\n",
    "            montant*=2\n",
    "        return montant\n",
    "         \n",
    "    def ToString(self):\n",
    "        print(\"Colis : \")\n",
    "        Courrier.ToString(self)\n",
    "        print(\" Volume : %.2f litres\\n Prix du timbre : %.2f\"%(self.volume,self.calculTimbre()))"
   ]
  },
  {
   "cell_type": "code",
   "execution_count": null,
   "metadata": {},
   "outputs": [],
   "source": []
  }
 ],
 "metadata": {
  "kernelspec": {
   "display_name": "Python 3",
   "language": "python",
   "name": "python3"
  },
  "language_info": {
   "codemirror_mode": {
    "name": "ipython",
    "version": 3
   },
   "file_extension": ".py",
   "mimetype": "text/x-python",
   "name": "python",
   "nbconvert_exporter": "python",
   "pygments_lexer": "ipython3",
   "version": "3.7.6"
  }
 },
 "nbformat": 4,
 "nbformat_minor": 4
}
